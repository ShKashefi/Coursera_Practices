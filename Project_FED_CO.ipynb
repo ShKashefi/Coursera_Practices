{
 "cells": [
  {
   "cell_type": "code",
   "execution_count": 3,
   "id": "77fa7dbe",
   "metadata": {},
   "outputs": [],
   "source": [
    "seq = 'ACGT'"
   ]
  },
  {
   "cell_type": "code",
   "execution_count": 4,
   "id": "a7073ed2",
   "metadata": {},
   "outputs": [],
   "source": [
    "seq = \"ACGT\""
   ]
  },
  {
   "cell_type": "code",
   "execution_count": 5,
   "id": "837c9010",
   "metadata": {},
   "outputs": [
    {
     "data": {
      "text/plain": [
       "'C'"
      ]
     },
     "execution_count": 5,
     "metadata": {},
     "output_type": "execute_result"
    }
   ],
   "source": [
    "seq[1]"
   ]
  },
  {
   "cell_type": "code",
   "execution_count": 6,
   "id": "c04e2e43",
   "metadata": {},
   "outputs": [
    {
     "data": {
      "text/plain": [
       "4"
      ]
     },
     "execution_count": 6,
     "metadata": {},
     "output_type": "execute_result"
    }
   ],
   "source": [
    "len(seq)"
   ]
  },
  {
   "cell_type": "code",
   "execution_count": 7,
   "id": "d55553fc",
   "metadata": {},
   "outputs": [],
   "source": [
    "e = ''"
   ]
  },
  {
   "cell_type": "code",
   "execution_count": 8,
   "id": "d72cb0c9",
   "metadata": {},
   "outputs": [
    {
     "data": {
      "text/plain": [
       "0"
      ]
     },
     "execution_count": 8,
     "metadata": {},
     "output_type": "execute_result"
    }
   ],
   "source": [
    "len(e)"
   ]
  },
  {
   "cell_type": "code",
   "execution_count": 11,
   "id": "f55ee107",
   "metadata": {},
   "outputs": [
    {
     "name": "stdout",
     "output_type": "stream",
     "text": [
      "CCAAGGTT\n"
     ]
    }
   ],
   "source": [
    "seq1= 'CCAA'\n",
    "seq2= 'GGTT'\n",
    "print(seq1 + seq2)"
   ]
  },
  {
   "cell_type": "code",
   "execution_count": 14,
   "id": "5f9369ec",
   "metadata": {},
   "outputs": [
    {
     "name": "stdout",
     "output_type": "stream",
     "text": [
      "A,C,G,T\n"
     ]
    }
   ],
   "source": [
    "seqs = ['A', 'C', 'G', 'T']\n",
    "print (','.join(seqs))"
   ]
  },
  {
   "cell_type": "code",
   "execution_count": 21,
   "id": "038e9e72",
   "metadata": {},
   "outputs": [
    {
     "data": {
      "text/plain": [
       "'A'"
      ]
     },
     "execution_count": 21,
     "metadata": {},
     "output_type": "execute_result"
    }
   ],
   "source": [
    "import random\n",
    "random.seed(6)\n",
    "random.choice('ACGT')"
   ]
  },
  {
   "cell_type": "code",
   "execution_count": 23,
   "id": "4e3bf16a",
   "metadata": {},
   "outputs": [
    {
     "name": "stdout",
     "output_type": "stream",
     "text": [
      "TCTACGATGA\n"
     ]
    }
   ],
   "source": [
    "seq = ''\n",
    "for _ in range (10):\n",
    "    seq +=random.choice('ACGT')\n",
    "print(seq)"
   ]
  },
  {
   "cell_type": "code",
   "execution_count": 25,
   "id": "8eac1e3c",
   "metadata": {},
   "outputs": [
    {
     "name": "stdout",
     "output_type": "stream",
     "text": [
      "GTCAGCTGGA\n"
     ]
    }
   ],
   "source": [
    "seq = ''.join([random.choice('ACGT') for _ in range(10)])\n",
    "print(seq)"
   ]
  },
  {
   "cell_type": "code",
   "execution_count": 26,
   "id": "54531239",
   "metadata": {},
   "outputs": [
    {
     "data": {
      "text/plain": [
       "'TC'"
      ]
     },
     "execution_count": 26,
     "metadata": {},
     "output_type": "execute_result"
    }
   ],
   "source": [
    "seq[1:3]"
   ]
  },
  {
   "cell_type": "code",
   "execution_count": 27,
   "id": "6835b4de",
   "metadata": {},
   "outputs": [
    {
     "data": {
      "text/plain": [
       "'GTC'"
      ]
     },
     "execution_count": 27,
     "metadata": {},
     "output_type": "execute_result"
    }
   ],
   "source": [
    "seq[:3]"
   ]
  },
  {
   "cell_type": "code",
   "execution_count": 28,
   "id": "03f52e1f",
   "metadata": {},
   "outputs": [
    {
     "data": {
      "text/plain": [
       "'GTC'"
      ]
     },
     "execution_count": 28,
     "metadata": {},
     "output_type": "execute_result"
    }
   ],
   "source": [
    "seq[0:3]"
   ]
  },
  {
   "cell_type": "code",
   "execution_count": 29,
   "id": "2782bc21",
   "metadata": {},
   "outputs": [
    {
     "data": {
      "text/plain": [
       "'GGA'"
      ]
     },
     "execution_count": 29,
     "metadata": {},
     "output_type": "execute_result"
    }
   ],
   "source": [
    "seq[7:]"
   ]
  },
  {
   "cell_type": "code",
   "execution_count": 30,
   "id": "6bbb1a19",
   "metadata": {},
   "outputs": [
    {
     "data": {
      "text/plain": [
       "'GGA'"
      ]
     },
     "execution_count": 30,
     "metadata": {},
     "output_type": "execute_result"
    }
   ],
   "source": [
    "seq[7:len(seq)]"
   ]
  },
  {
   "cell_type": "code",
   "execution_count": 31,
   "id": "ac5c499c",
   "metadata": {},
   "outputs": [
    {
     "data": {
      "text/plain": [
       "'G'"
      ]
     },
     "execution_count": 31,
     "metadata": {},
     "output_type": "execute_result"
    }
   ],
   "source": [
    "seq[-3]"
   ]
  },
  {
   "cell_type": "code",
   "execution_count": 32,
   "id": "1109b811",
   "metadata": {},
   "outputs": [
    {
     "data": {
      "text/plain": [
       "'GGA'"
      ]
     },
     "execution_count": 32,
     "metadata": {},
     "output_type": "execute_result"
    }
   ],
   "source": [
    "seq[-3:]"
   ]
  },
  {
   "cell_type": "markdown",
   "id": "a1917b43",
   "metadata": {},
   "source": [
    "# Practical: Manipulating DNA strings"
   ]
  },
  {
   "cell_type": "code",
   "execution_count": 1,
   "id": "6d8ca86e",
   "metadata": {},
   "outputs": [
    {
     "data": {
      "text/plain": [
       "'ACCA'"
      ]
     },
     "execution_count": 1,
     "metadata": {},
     "output_type": "execute_result"
    }
   ],
   "source": [
    "def longestCommonPrefix(s1,s2):\n",
    "    i=0\n",
    "    while i < len(s1) and i < len(s2) and s1[i] == s2[i]:\n",
    "        i+=1  #when we finish this loop i will be at the point where either we've exhausted one or both of the strings or we've reached a mismatch\n",
    "    return s1[:i] #So, now we can just return the part of either string, up to but not including i.\n",
    "longestCommonPrefix('ACCATGT','ACCAGAC')"
   ]
  },
  {
   "cell_type": "code",
   "execution_count": 2,
   "id": "45f9997c",
   "metadata": {},
   "outputs": [
    {
     "data": {
      "text/plain": [
       "True"
      ]
     },
     "execution_count": 2,
     "metadata": {},
     "output_type": "execute_result"
    }
   ],
   "source": [
    "#see whether to strings match exactly\n",
    "\n",
    "def match(s1,s2):\n",
    "    if not len(s1) == len(s2):\n",
    "        return False\n",
    "    \n",
    "    for i in range(len(s1)):\n",
    "        if not s1[i] == s2[i]:\n",
    "            return False\n",
    "    return True\n",
    "match('ATGCT','ATGCT')\n"
   ]
  },
  {
   "cell_type": "code",
   "execution_count": 3,
   "id": "59ae2fb6",
   "metadata": {},
   "outputs": [
    {
     "data": {
      "text/plain": [
       "False"
      ]
     },
     "execution_count": 3,
     "metadata": {},
     "output_type": "execute_result"
    }
   ],
   "source": [
    "match ('ATCGT','AACCG')"
   ]
  },
  {
   "cell_type": "code",
   "execution_count": 4,
   "id": "8b804d8f",
   "metadata": {},
   "outputs": [
    {
     "data": {
      "text/plain": [
       "False"
      ]
     },
     "execution_count": 4,
     "metadata": {},
     "output_type": "execute_result"
    }
   ],
   "source": [
    "#Python already has a builtin method to do this for us\n",
    "\n",
    "'ACTGT' == 'ACGTG'"
   ]
  },
  {
   "cell_type": "code",
   "execution_count": 5,
   "id": "3e8a2d09",
   "metadata": {},
   "outputs": [
    {
     "data": {
      "text/plain": [
       "True"
      ]
     },
     "execution_count": 5,
     "metadata": {},
     "output_type": "execute_result"
    }
   ],
   "source": [
    "'ACTGT' == 'ACTGT'"
   ]
  },
  {
   "cell_type": "code",
   "execution_count": 6,
   "id": "72d1c6ad",
   "metadata": {},
   "outputs": [],
   "source": [
    "#a function to get the reverse complement of a DNA strand\n",
    "\n",
    "complement = {'A':'T', 'C':'G', 'G':'C', 'T':'A'} #dictionary"
   ]
  },
  {
   "cell_type": "code",
   "execution_count": 9,
   "id": "73d74ff4",
   "metadata": {},
   "outputs": [
    {
     "data": {
      "text/plain": [
       "'G'"
      ]
     },
     "execution_count": 9,
     "metadata": {},
     "output_type": "execute_result"
    }
   ],
   "source": [
    "complement['C']"
   ]
  },
  {
   "cell_type": "code",
   "execution_count": 10,
   "id": "94416c23",
   "metadata": {},
   "outputs": [
    {
     "data": {
      "text/plain": [
       "'CGACGGT'"
      ]
     },
     "execution_count": 10,
     "metadata": {},
     "output_type": "execute_result"
    }
   ],
   "source": [
    "def reverseComplement(s):\n",
    "    complement = {'A':'T', 'C':'G', 'G':'C', 'T':'A'}\n",
    "    t = '' #t will be reverse complement\n",
    "    for base in s:\n",
    "        t = complement[base] + t\n",
    "    return t\n",
    "reverseComplement('ACCGTCG')"
   ]
  },
  {
   "cell_type": "code",
   "execution_count": null,
   "id": "588100de",
   "metadata": {},
   "outputs": [],
   "source": []
  }
 ],
 "metadata": {
  "kernelspec": {
   "display_name": "Python 3 (ipykernel)",
   "language": "python",
   "name": "python3"
  },
  "language_info": {
   "codemirror_mode": {
    "name": "ipython",
    "version": 3
   },
   "file_extension": ".py",
   "mimetype": "text/x-python",
   "name": "python",
   "nbconvert_exporter": "python",
   "pygments_lexer": "ipython3",
   "version": "3.9.16"
  }
 },
 "nbformat": 4,
 "nbformat_minor": 5
}
